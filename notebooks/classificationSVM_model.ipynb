{
  "nbformat": 4,
  "nbformat_minor": 0,
  "metadata": {
    "colab": {
      "name": "train_classification_model.ipynb",
      "provenance": [],
      "authorship_tag": "ABX9TyNJfCzkxeM2gFRduU00SrXo",
      "include_colab_link": true
    },
    "kernelspec": {
      "name": "python3",
      "display_name": "Python 3"
    },
    "language_info": {
      "name": "python"
    },
    "accelerator": "TPU"
  },
  "cells": [
    {
      "cell_type": "markdown",
      "metadata": {
        "id": "view-in-github",
        "colab_type": "text"
      },
      "source": [
        "<a href=\"https://colab.research.google.com/github/bgtm/plane_classification/blob/main/notebooks/classificationSVM_model.ipynb\" target=\"_parent\"><img src=\"https://colab.research.google.com/assets/colab-badge.svg\" alt=\"Open In Colab\"/></a>"
      ]
    },
    {
      "cell_type": "markdown",
      "source": [
        "# Import data"
      ],
      "metadata": {
        "id": "LSoeVjjgZU33"
      }
    },
    {
      "cell_type": "code",
      "execution_count": null,
      "metadata": {
        "colab": {
          "base_uri": "https://localhost:8080/"
        },
        "id": "VjFNHaNmZLuM",
        "outputId": "ff659f0b-0fac-4e32-a06e-1731acedad5b"
      },
      "outputs": [
        {
          "output_type": "stream",
          "name": "stdout",
          "text": [
            "  % Total    % Received % Xferd  Average Speed   Time    Time     Time  Current\n",
            "                                 Dload  Upload   Total   Spent    Left  Speed\n",
            "100 2625M  100 2625M    0     0  22.2M      0  0:01:57  0:01:57 --:--:-- 12.3M\n"
          ]
        }
      ],
      "source": [
        "!curl -O https://www.robots.ox.ac.uk/~vgg/data/fgvc-aircraft/archives/fgvc-aircraft-2013b.tar.gz\n",
        "!tar zxf fgvc-aircraft-2013b.tar.gz\n",
        "! mv fgvc-aircraft-2013b dataset"
      ]
    },
    {
      "cell_type": "markdown",
      "source": [
        "# Library"
      ],
      "metadata": {
        "id": "HDsUp-D5ZX9K"
      }
    },
    {
      "cell_type": "code",
      "source": [
        "#Original lib\n",
        "import pathlib\n",
        "\n",
        "# Data science lib (alpha)\n",
        "import datetime\n",
        "import matplotlib.pyplot as plt\n",
        "import numpy as np\n",
        "import pandas as pd \n",
        "import tensorflow as tf\n",
        "import seaborn as sns\n",
        "import sklearn\n",
        "import yaml\n",
        "\n",
        "\n",
        "#from tensorflow.keras.utils import to_categorical\n",
        "from PIL import Image\n",
        "from keras.models import Sequential, load_model\n",
        "from keras.layers import Conv2D, MaxPool2D, Dense, Flatten, Dropout\n",
        "from sklearn.model_selection import train_test_split\n",
        "from sklearn.svm import SVC"
      ],
      "metadata": {
        "id": "qo-cshM4ZZ-7"
      },
      "execution_count": 1,
      "outputs": []
    },
    {
      "cell_type": "markdown",
      "source": [
        "# Constants"
      ],
      "metadata": {
        "id": "NJ3Y7ho-hy3z"
      }
    },
    {
      "cell_type": "code",
      "source": [
        "with open(r'app.yaml') as file:\n",
        "    doc = yaml.safe_load(file)\n",
        "    print(doc)  "
      ],
      "metadata": {
        "id": "i8qIbAg9uVGr",
        "outputId": "b5fdacae-3cb2-49ca-cdc3-7fc25719f841",
        "colab": {
          "base_uri": "https://localhost:8080/"
        }
      },
      "execution_count": 32,
      "outputs": [
        {
          "output_type": "stream",
          "name": "stdout",
          "text": [
            "{'DATA_DIR': 'dataset/data', 'IMAGE_DEPTH': 3, 'IMAGE_WIDTH': 128, 'TARGET_NAME': 'manufacturer', 'MODELS_DIR': 'model'}\n"
          ]
        }
      ]
    },
    {
      "cell_type": "code",
      "source": [
        "DATA_DIR = pathlib.Path(doc['DATA_DIR'])\n",
        "IMAGE_WIDTH = doc['IMAGE_WIDTH']\n",
        "IMAGE_HEIGHT = IMAGE_WIDTH\n",
        "IMAGE_DEPTH = doc['IMAGE_DEPTH']\n",
        "TARGET_NAME = doc['TARGET_NAME']\n",
        "MODELS_DIR = doc['MODELS_DIR']"
      ],
      "metadata": {
        "id": "wQtSgLuabhJ_"
      },
      "execution_count": 33,
      "outputs": []
    },
    {
      "cell_type": "markdown",
      "source": [
        "# Functions"
      ],
      "metadata": {
        "id": "JdOUE65IBwky"
      }
    },
    {
      "cell_type": "markdown",
      "source": [
        "## Before training"
      ],
      "metadata": {
        "id": "-cDuU7ON8vkq"
      }
    },
    {
      "cell_type": "code",
      "source": [
        "def build_image_database(path, target) :\n",
        "  \"\"\" Build pandas dataframe with target class and access path to images.\n",
        "\n",
        "  Parameters\n",
        "  -----------\n",
        "  path (Path): path pattern to read csv file containing images information.\n",
        "  target (str): Name of the target column\n",
        "\n",
        "\n",
        "  Returns\n",
        "  --------\n",
        "  A pandas dataframe including target class and path to images.\n",
        "  \"\"\"\n",
        "  _df=pd.read_csv(path,\n",
        "              sep=\"\\t\", # Use a separator that do not exist to have a unique column as output\n",
        "              names=['all'],\n",
        "              dtype={'all': str} # Allows to keep the id begining with 00\n",
        "              )\n",
        "  \n",
        "  #Extract the image_id\n",
        "  _df['image_id']=_df['all'].apply(lambda x: x.split(' ')[0])\n",
        "  # Extract the manufacturer name, using split, list reading and join\n",
        "  _df[target]=_df['all'].apply(lambda x: ' '.join(x.split(' ')[1:]))\n",
        "\n",
        "  _df['path'] = _df['image_id'].apply(lambda x: pathlib.Path('dataset/data/images') / (x+ \".jpg\"))\n",
        "\n",
        "  return _df.drop(columns=['all'])"
      ],
      "metadata": {
        "id": "d8qrkSlu9IN3"
      },
      "execution_count": 4,
      "outputs": []
    },
    {
      "cell_type": "code",
      "source": [
        "def show_image (df,row,target) :\n",
        "  \"\"\"\n",
        "  parameters\n",
        "  ----------\n",
        "  df (a dataframe) \n",
        "  row (numeric) : index of a row\n",
        "  target (str) : what information to display (ex : manufacturer name)\n",
        "  \"\"\"\n",
        "  assert target in df.columns, \"Missing target colun in dataframe\"\n",
        "  assert 'path' in df.columns, \"Missing image path in dataframe\"\n",
        "  \n",
        "  print(df.iloc[row,][target])\n",
        "  plt.imshow(plt.imread(df.iloc[row,]['path']))\n",
        "  \n",
        "  return "
      ],
      "metadata": {
        "id": "WNed1peMNLkG"
      },
      "execution_count": 5,
      "outputs": []
    },
    {
      "cell_type": "code",
      "source": [
        "def load_resize_image(path, height, width):\n",
        "  \"\"\"\n",
        "  Load an image and resize it to the target size\n",
        "\n",
        "  parameters\n",
        "  ----------\n",
        "  path (Path) : access path to image file\n",
        "  height (int) : resize image to this height\n",
        "  width (int) : resize image to this width\n",
        "\n",
        "  Returns\n",
        "  --------\n",
        "  np.array containing resized image\n",
        "  \"\"\"\n",
        "  # Use of Image from the PIL lib\n",
        "  img_resize = np.array(Image.open(path).resize((width,height)))\n",
        "  return img_resize.flatten()\n",
        "\n"
      ],
      "metadata": {
        "id": "1dTGctvXojqW"
      },
      "execution_count": 6,
      "outputs": []
    },
    {
      "cell_type": "code",
      "source": [
        "def build_x_and_y (df : pd.DataFrame , target : str ,images : str ,stratify : str = None) :\n",
        "  \"\"\"\n",
        "  Build x tensor and y tensor for model fitting\n",
        "\n",
        "  Parameters\n",
        "  ----------\n",
        "  df (pd.DataFrame) : dataframe with target and images columns\n",
        "  target (str) : column name for target variable\n",
        "  images (str) : column name for images\n",
        "\n",
        "  Return\n",
        "  -------\n",
        "  x (np.array) : tensor of X values\n",
        "  y (np.array) : tensor of y values\n",
        "  \"\"\"\n",
        "  x = np.array(df[images].to_list())\n",
        "  y = df[target].astype('category').cat.codes\n",
        "  \n",
        "  return x,y"
      ],
      "metadata": {
        "id": "VFwuC6PJiBw5"
      },
      "execution_count": 7,
      "outputs": []
    },
    {
      "cell_type": "markdown",
      "source": [
        "## After training"
      ],
      "metadata": {
        "id": "WoTBreoG8y56"
      }
    },
    {
      "cell_type": "code",
      "source": [
        "def classify_images(images, model,classes_names=None):\n",
        "  \"\"\"Classify images through a TF model.\n",
        "\n",
        "  Parameters\n",
        "  ----------\n",
        "  images (np.array): set of images to classify\n",
        "  model (tf.keras.Model): TF/Keras model\n",
        "  classes_names : dictionary with names of classes\n",
        "\n",
        "  Returns\n",
        "  --------\n",
        "  predicted classes\n",
        "  \"\"\"\n",
        "\n",
        "  results = model.predict(images) # predict for images\n",
        "  classes = np.argmax(results, axis=1) # np.argmax is computed row by row\n",
        "  if classes_names is not None:\n",
        "    classes = np.array(classes_names[classes])\n",
        "  return classes\n",
        "\n"
      ],
      "metadata": {
        "id": "AMyVGKKW_MO8"
      },
      "execution_count": 8,
      "outputs": []
    },
    {
      "cell_type": "code",
      "source": [
        "def save_model(model, basename):\n",
        "  \"\"\"Save tf/Keras model.\n",
        "\n",
        "  Model file is named model + timestamp.\n",
        "\n",
        "  Parameters\n",
        "  ----------\n",
        "  model (tf/Keras model): model to be saved\n",
        "  basename: location to save model file\n",
        "  \"\"\"\n",
        "  model.save('{}_{}.h5'.format(basename, datetime.datetime.now().strftime('%Y-%m-%d_%H-%M-%S')))\n",
        "  return"
      ],
      "metadata": {
        "id": "QcqYiaK8_MVb"
      },
      "execution_count": 9,
      "outputs": []
    },
    {
      "cell_type": "markdown",
      "source": [
        "# Train the model"
      ],
      "metadata": {
        "id": "sWlcPTXWKbh5"
      }
    },
    {
      "cell_type": "code",
      "source": [
        "# A faire une fois pour récupérer les informations sur la TPU\n",
        "try:\n",
        "  tpu = tf.distribute.cluster_resolver.TPUClusterResolver()  # TPU detection\n",
        "  print('Running on TPU ', tpu.cluster_spec().as_dict()['worker'])\n",
        "except ValueError:\n",
        "  raise BaseException('ERROR: Not connected to a TPU runtime; please see the previous cell in this notebook for instructions!')\n",
        "\n",
        "tf.config.experimental_connect_to_cluster(tpu)\n",
        "tf.tpu.experimental.initialize_tpu_system(tpu)\n",
        "tpu_strategy = tf.distribute.experimental.TPUStrategy(tpu)"
      ],
      "metadata": {
        "colab": {
          "base_uri": "https://localhost:8080/"
        },
        "id": "fGjiqXbAA2VD",
        "outputId": "8e2d4edc-dc42-4327-c338-b36ac68d70bf"
      },
      "execution_count": 10,
      "outputs": [
        {
          "output_type": "stream",
          "name": "stdout",
          "text": [
            "Running on TPU  ['10.35.227.82:8470']\n",
            "INFO:tensorflow:Deallocate tpu buffers before initializing tpu system.\n"
          ]
        },
        {
          "output_type": "stream",
          "name": "stderr",
          "text": [
            "INFO:tensorflow:Deallocate tpu buffers before initializing tpu system.\n"
          ]
        },
        {
          "output_type": "stream",
          "name": "stdout",
          "text": [
            "INFO:tensorflow:Initializing the TPU system: grpc://10.35.227.82:8470\n"
          ]
        },
        {
          "output_type": "stream",
          "name": "stderr",
          "text": [
            "INFO:tensorflow:Initializing the TPU system: grpc://10.35.227.82:8470\n"
          ]
        },
        {
          "output_type": "stream",
          "name": "stdout",
          "text": [
            "INFO:tensorflow:Finished initializing TPU system.\n"
          ]
        },
        {
          "output_type": "stream",
          "name": "stderr",
          "text": [
            "INFO:tensorflow:Finished initializing TPU system.\n",
            "WARNING:absl:`tf.distribute.experimental.TPUStrategy` is deprecated, please use  the non experimental symbol `tf.distribute.TPUStrategy` instead.\n"
          ]
        },
        {
          "output_type": "stream",
          "name": "stdout",
          "text": [
            "INFO:tensorflow:Found TPU system:\n"
          ]
        },
        {
          "output_type": "stream",
          "name": "stderr",
          "text": [
            "INFO:tensorflow:Found TPU system:\n"
          ]
        },
        {
          "output_type": "stream",
          "name": "stdout",
          "text": [
            "INFO:tensorflow:*** Num TPU Cores: 8\n"
          ]
        },
        {
          "output_type": "stream",
          "name": "stderr",
          "text": [
            "INFO:tensorflow:*** Num TPU Cores: 8\n"
          ]
        },
        {
          "output_type": "stream",
          "name": "stdout",
          "text": [
            "INFO:tensorflow:*** Num TPU Workers: 1\n"
          ]
        },
        {
          "output_type": "stream",
          "name": "stderr",
          "text": [
            "INFO:tensorflow:*** Num TPU Workers: 1\n"
          ]
        },
        {
          "output_type": "stream",
          "name": "stdout",
          "text": [
            "INFO:tensorflow:*** Num TPU Cores Per Worker: 8\n"
          ]
        },
        {
          "output_type": "stream",
          "name": "stderr",
          "text": [
            "INFO:tensorflow:*** Num TPU Cores Per Worker: 8\n"
          ]
        },
        {
          "output_type": "stream",
          "name": "stdout",
          "text": [
            "INFO:tensorflow:*** Available Device: _DeviceAttributes(/job:localhost/replica:0/task:0/device:CPU:0, CPU, 0, 0)\n"
          ]
        },
        {
          "output_type": "stream",
          "name": "stderr",
          "text": [
            "INFO:tensorflow:*** Available Device: _DeviceAttributes(/job:localhost/replica:0/task:0/device:CPU:0, CPU, 0, 0)\n"
          ]
        },
        {
          "output_type": "stream",
          "name": "stdout",
          "text": [
            "INFO:tensorflow:*** Available Device: _DeviceAttributes(/job:worker/replica:0/task:0/device:CPU:0, CPU, 0, 0)\n"
          ]
        },
        {
          "output_type": "stream",
          "name": "stderr",
          "text": [
            "INFO:tensorflow:*** Available Device: _DeviceAttributes(/job:worker/replica:0/task:0/device:CPU:0, CPU, 0, 0)\n"
          ]
        },
        {
          "output_type": "stream",
          "name": "stdout",
          "text": [
            "INFO:tensorflow:*** Available Device: _DeviceAttributes(/job:worker/replica:0/task:0/device:TPU:0, TPU, 0, 0)\n"
          ]
        },
        {
          "output_type": "stream",
          "name": "stderr",
          "text": [
            "INFO:tensorflow:*** Available Device: _DeviceAttributes(/job:worker/replica:0/task:0/device:TPU:0, TPU, 0, 0)\n"
          ]
        },
        {
          "output_type": "stream",
          "name": "stdout",
          "text": [
            "INFO:tensorflow:*** Available Device: _DeviceAttributes(/job:worker/replica:0/task:0/device:TPU:1, TPU, 0, 0)\n"
          ]
        },
        {
          "output_type": "stream",
          "name": "stderr",
          "text": [
            "INFO:tensorflow:*** Available Device: _DeviceAttributes(/job:worker/replica:0/task:0/device:TPU:1, TPU, 0, 0)\n"
          ]
        },
        {
          "output_type": "stream",
          "name": "stdout",
          "text": [
            "INFO:tensorflow:*** Available Device: _DeviceAttributes(/job:worker/replica:0/task:0/device:TPU:2, TPU, 0, 0)\n"
          ]
        },
        {
          "output_type": "stream",
          "name": "stderr",
          "text": [
            "INFO:tensorflow:*** Available Device: _DeviceAttributes(/job:worker/replica:0/task:0/device:TPU:2, TPU, 0, 0)\n"
          ]
        },
        {
          "output_type": "stream",
          "name": "stdout",
          "text": [
            "INFO:tensorflow:*** Available Device: _DeviceAttributes(/job:worker/replica:0/task:0/device:TPU:3, TPU, 0, 0)\n"
          ]
        },
        {
          "output_type": "stream",
          "name": "stderr",
          "text": [
            "INFO:tensorflow:*** Available Device: _DeviceAttributes(/job:worker/replica:0/task:0/device:TPU:3, TPU, 0, 0)\n"
          ]
        },
        {
          "output_type": "stream",
          "name": "stdout",
          "text": [
            "INFO:tensorflow:*** Available Device: _DeviceAttributes(/job:worker/replica:0/task:0/device:TPU:4, TPU, 0, 0)\n"
          ]
        },
        {
          "output_type": "stream",
          "name": "stderr",
          "text": [
            "INFO:tensorflow:*** Available Device: _DeviceAttributes(/job:worker/replica:0/task:0/device:TPU:4, TPU, 0, 0)\n"
          ]
        },
        {
          "output_type": "stream",
          "name": "stdout",
          "text": [
            "INFO:tensorflow:*** Available Device: _DeviceAttributes(/job:worker/replica:0/task:0/device:TPU:5, TPU, 0, 0)\n"
          ]
        },
        {
          "output_type": "stream",
          "name": "stderr",
          "text": [
            "INFO:tensorflow:*** Available Device: _DeviceAttributes(/job:worker/replica:0/task:0/device:TPU:5, TPU, 0, 0)\n"
          ]
        },
        {
          "output_type": "stream",
          "name": "stdout",
          "text": [
            "INFO:tensorflow:*** Available Device: _DeviceAttributes(/job:worker/replica:0/task:0/device:TPU:6, TPU, 0, 0)\n"
          ]
        },
        {
          "output_type": "stream",
          "name": "stderr",
          "text": [
            "INFO:tensorflow:*** Available Device: _DeviceAttributes(/job:worker/replica:0/task:0/device:TPU:6, TPU, 0, 0)\n"
          ]
        },
        {
          "output_type": "stream",
          "name": "stdout",
          "text": [
            "INFO:tensorflow:*** Available Device: _DeviceAttributes(/job:worker/replica:0/task:0/device:TPU:7, TPU, 0, 0)\n"
          ]
        },
        {
          "output_type": "stream",
          "name": "stderr",
          "text": [
            "INFO:tensorflow:*** Available Device: _DeviceAttributes(/job:worker/replica:0/task:0/device:TPU:7, TPU, 0, 0)\n"
          ]
        },
        {
          "output_type": "stream",
          "name": "stdout",
          "text": [
            "INFO:tensorflow:*** Available Device: _DeviceAttributes(/job:worker/replica:0/task:0/device:TPU_SYSTEM:0, TPU_SYSTEM, 0, 0)\n"
          ]
        },
        {
          "output_type": "stream",
          "name": "stderr",
          "text": [
            "INFO:tensorflow:*** Available Device: _DeviceAttributes(/job:worker/replica:0/task:0/device:TPU_SYSTEM:0, TPU_SYSTEM, 0, 0)\n"
          ]
        },
        {
          "output_type": "stream",
          "name": "stdout",
          "text": [
            "INFO:tensorflow:*** Available Device: _DeviceAttributes(/job:worker/replica:0/task:0/device:XLA_CPU:0, XLA_CPU, 0, 0)\n"
          ]
        },
        {
          "output_type": "stream",
          "name": "stderr",
          "text": [
            "INFO:tensorflow:*** Available Device: _DeviceAttributes(/job:worker/replica:0/task:0/device:XLA_CPU:0, XLA_CPU, 0, 0)\n"
          ]
        }
      ]
    },
    {
      "cell_type": "code",
      "source": [
        "# Load train & test dataset\n",
        "path_train = 'images_'+TARGET_NAME+'_train.txt'\n",
        "path_test = 'images_'+TARGET_NAME+'_test.txt'\n",
        "\n",
        "train_df = build_image_database(DATA_DIR / path_train,TARGET_NAME)\n",
        "test_df = build_image_database(DATA_DIR / path_test,TARGET_NAME)\n",
        "\n",
        "train_df['resize_image']=train_df.apply(lambda r: load_resize_image(r['path'],\n",
        "                                                                    IMAGE_HEIGHT,IMAGE_WIDTH),\n",
        "                                        axis=1)\n",
        "\n",
        "test_df['resize_image']=test_df.apply(lambda r: load_resize_image(r['path'],\n",
        "                                                                    IMAGE_HEIGHT,IMAGE_WIDTH),\n",
        "                                      axis=1)"
      ],
      "metadata": {
        "id": "fe6SOYqMjY6d"
      },
      "execution_count": 34,
      "outputs": []
    },
    {
      "cell_type": "code",
      "source": [
        "family_list=[]\n",
        "count_list = []\n",
        "init = train_df[TARGET_NAME].tolist()\n",
        "\n",
        "for i in init:\n",
        "  if (i in family_list) == False :\n",
        "    family_list.append(i)\n",
        "  if (i in family_list) == True :\n",
        "    count_list.append(family_list.count(i))\n",
        "    family_list.append(i)"
      ],
      "metadata": {
        "id": "9p2rzPvIUzwC"
      },
      "execution_count": 35,
      "outputs": []
    },
    {
      "cell_type": "code",
      "source": [
        "train_df['duplicates'] = count_list\n",
        "train = train_df[train_df['duplicates']<26]\n",
        "train.shape"
      ],
      "metadata": {
        "id": "Fv595Vx3byRG",
        "outputId": "96c7abe1-9b2f-49a5-a018-96bfdc207c52",
        "colab": {
          "base_uri": "https://localhost:8080/"
        }
      },
      "execution_count": 39,
      "outputs": [
        {
          "output_type": "execute_result",
          "data": {
            "text/plain": [
              "(750, 5)"
            ]
          },
          "metadata": {},
          "execution_count": 39
        }
      ]
    },
    {
      "cell_type": "code",
      "source": [
        "# Split train&test\n",
        "X_train, y_train = build_x_and_y(train, TARGET_NAME,'resize_image')\n",
        "X_test, y_test = build_x_and_y(test_df, TARGET_NAME,'resize_image')"
      ],
      "metadata": {
        "id": "CacBfF_cUyr9"
      },
      "execution_count": 40,
      "outputs": []
    },
    {
      "cell_type": "code",
      "source": [
        "model = SVC(kernel = 'linear', random_state = 0, probability = True)"
      ],
      "metadata": {
        "id": "5nHO_VossjSO"
      },
      "execution_count": 41,
      "outputs": []
    },
    {
      "cell_type": "code",
      "source": [
        "%time \n",
        "with tpu_strategy.scope():\n",
        "  model.fit(X_train, y_train)"
      ],
      "metadata": {
        "id": "-OqnDNduySF1",
        "outputId": "6303515f-513c-4f36-bd41-462c89d43f3a",
        "colab": {
          "base_uri": "https://localhost:8080/"
        }
      },
      "execution_count": 42,
      "outputs": [
        {
          "output_type": "stream",
          "name": "stdout",
          "text": [
            "CPU times: user 0 ns, sys: 6 µs, total: 6 µs\n",
            "Wall time: 13.1 µs\n"
          ]
        }
      ]
    },
    {
      "cell_type": "markdown",
      "source": [
        "# Evaluate the model"
      ],
      "metadata": {
        "id": "GX0gvCl0QIu4"
      }
    },
    {
      "cell_type": "code",
      "source": [
        "fig, ax = plt.subplots(figsize=(12,10))\n",
        "sns.heatmap(pd.crosstab(test_df[TARGET_NAME], \n",
        "                        model.predict(X_test), \n",
        "                        normalize='index'), cmap='vlag',ax=ax)"
      ],
      "metadata": {
        "colab": {
          "base_uri": "https://localhost:8080/",
          "height": 625
        },
        "id": "bgjJ2fVf_MSr",
        "outputId": "bb8f84ef-396a-4ed9-89ee-0fde1cbe15cd"
      },
      "execution_count": 43,
      "outputs": [
        {
          "output_type": "execute_result",
          "data": {
            "text/plain": [
              "<matplotlib.axes._subplots.AxesSubplot at 0x7f5227178950>"
            ]
          },
          "metadata": {},
          "execution_count": 43
        },
        {
          "output_type": "display_data",
          "data": {
            "text/plain": [
              "<Figure size 864x720 with 2 Axes>"
            ],
            "image/png": "[encoded data removed]"
          },
          "metadata": {
            "needs_background": "light"
          }
        }
      ]
    },
    {
      "cell_type": "markdown",
      "source": [
        "# Save the weights"
      ],
      "metadata": {
        "id": "6oESXUZR9CKB"
      }
    },
    {
      "cell_type": "code",
      "source": [
        "! pip install pickle\n",
        "import pickle"
      ],
      "metadata": {
        "id": "e44TTrG2D5vy",
        "colab": {
          "base_uri": "https://localhost:8080/"
        },
        "outputId": "4c27a328-a050-4c7d-fbd4-b149638ca032"
      },
      "execution_count": 28,
      "outputs": [
        {
          "output_type": "stream",
          "name": "stdout",
          "text": [
            "\u001b[31mERROR: Could not find a version that satisfies the requirement pickle (from versions: none)\u001b[0m\n",
            "\u001b[31mERROR: No matching distribution found for pickle\u001b[0m\n"
          ]
        }
      ]
    },
    {
      "cell_type": "code",
      "source": [
        "# save the classifier\n",
        "filename = TARGET_NAME + '.pkl'\n",
        "pickle.dump(model, open(filename, 'wb'))"
      ],
      "metadata": {
        "id": "RXcb82iWjtmI"
      },
      "execution_count": 44,
      "outputs": []
    },
    {
      "cell_type": "code",
      "source": [
        "# load the model from disk\n",
        "loaded_model = pickle.load(open(filename, 'rb'))\n",
        "result = loaded_model.score(X_test, y_test)\n",
        "print(result)"
      ],
      "metadata": {
        "id": "J8ExG4Hj_Xjc",
        "outputId": "2bd1f3e3-c902-4eb3-a66a-57a646ba26f5",
        "colab": {
          "base_uri": "https://localhost:8080/"
        }
      },
      "execution_count": 31,
      "outputs": [
        {
          "output_type": "stream",
          "name": "stdout",
          "text": [
            "0.09030903090309031\n"
          ]
        }
      ]
    }
  ]
}
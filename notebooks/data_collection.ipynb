{
  "nbformat": 4,
  "nbformat_minor": 0,
  "metadata": {
    "colab": {
      "name": "data_collection.ipynb",
      "provenance": [],
      "authorship_tag": "ABX9TyPHRMttXZiKpSd8tOAieWrk",
      "include_colab_link": true
    },
    "kernelspec": {
      "name": "python3",
      "display_name": "Python 3"
    },
    "language_info": {
      "name": "python"
    }
  },
  "cells": [
    {
      "cell_type": "markdown",
      "metadata": {
        "id": "view-in-github",
        "colab_type": "text"
      },
      "source": [
        "<a href=\"https://colab.research.google.com/github/bgtm/plane_classification/blob/main/notebooks/data_collection.ipynb\" target=\"_parent\"><img src=\"https://colab.research.google.com/assets/colab-badge.svg\" alt=\"Open In Colab\"/></a>"
      ]
    },
    {
      "cell_type": "markdown",
      "source": [
        "# Importation of data\n",
        "Possible to do the same in the GitBasch command to work on local"
      ],
      "metadata": {
        "id": "lVxOTifB87vp"
      }
    },
    {
      "cell_type": "code",
      "execution_count": 1,
      "metadata": {
        "colab": {
          "base_uri": "https://localhost:8080/"
        },
        "id": "SkSnBOtU7Tt1",
        "outputId": "ab5d2a8c-687a-439c-c10f-0c576de7041e"
      },
      "outputs": [
        {
          "output_type": "stream",
          "name": "stdout",
          "text": [
            "  % Total    % Received % Xferd  Average Speed   Time    Time     Time  Current\n",
            "                                 Dload  Upload   Total   Spent    Left  Speed\n",
            "100 2625M  100 2625M    0     0  31.4M      0  0:01:23  0:01:23 --:--:-- 31.7M\n"
          ]
        }
      ],
      "source": [
        "!curl -O https://www.robots.ox.ac.uk/~vgg/data/fgvc-aircraft/archives/fgvc-aircraft-2013b.tar.gz"
      ]
    },
    {
      "cell_type": "markdown",
      "source": [
        "## Fichier tar\n",
        "- x : extraire les informations\n",
        "- z : le fichier est compressé\n",
        "- t : lister les fichiers sans décompresser\n",
        "- v : pour avoir du détail sur les fichiers\n",
        "- c : créer un tarfile\n",
        "- f : pour spécifier le nom du fichier (toujours en dernier)\n"
      ],
      "metadata": {
        "id": "m3pNxIdx9_V0"
      }
    },
    {
      "cell_type": "code",
      "source": [
        "# Exemple pour lister les fichiers avant de décompresser\n",
        "#!tar tzvf fgvc-aircraft-2013b.tar.gz"
      ],
      "metadata": {
        "id": "hk7pT8-Q9E2Y"
      },
      "execution_count": 15,
      "outputs": []
    },
    {
      "cell_type": "code",
      "source": [
        "!tar zxf fgvc-aircraft-2013b.tar.gz"
      ],
      "metadata": {
        "id": "kkEv8Smf9FEw"
      },
      "execution_count": 4,
      "outputs": []
    },
    {
      "cell_type": "markdown",
      "source": [
        "## Rename dataset"
      ],
      "metadata": {
        "id": "OohjJMwnYfHb"
      }
    },
    {
      "cell_type": "code",
      "source": [
        "! mv fgvc-aircraft-2013b dataset"
      ],
      "metadata": {
        "id": "DY3zlS-HYLvy"
      },
      "execution_count": 5,
      "outputs": []
    },
    {
      "cell_type": "markdown",
      "source": [
        "# Extract labels to yaml files"
      ],
      "metadata": {
        "id": "ev64MdZZYq6w"
      }
    },
    {
      "cell_type": "code",
      "source": [
        "import pandas as pd\n",
        "import yaml"
      ],
      "metadata": {
        "id": "shsNtaObZtvi"
      },
      "execution_count": 9,
      "outputs": []
    },
    {
      "cell_type": "code",
      "source": [
        "label=pd.read_csv('dataset/data/families.txt',\n",
        "              sep=\"\\t\", # Use a separator that do not exist to have a unique column as output\n",
        "              names=['all'],\n",
        "              dtype={'all': str} # Allows to keep the id begining with 00\n",
        "              )\n",
        "\n",
        "label_dic = label['all'].to_dict()\n",
        "\n",
        "with open(r'family_label.yaml','w') as file:\n",
        "    documents = yaml.dump(label_dic, file)"
      ],
      "metadata": {
        "id": "jdkFahGrYr46"
      },
      "execution_count": 11,
      "outputs": []
    },
    {
      "cell_type": "code",
      "source": [
        "label=pd.read_csv('dataset/data/manufacturers.txt',\n",
        "              sep=\"\\t\", # Use a separator that do not exist to have a unique column as output\n",
        "              names=['all'],\n",
        "              dtype={'all': str} # Allows to keep the id begining with 00\n",
        "              )\n",
        "\n",
        "label_dic = label['all'].to_dict()\n",
        "\n",
        "with open(r'manufacturer_label.yaml','w') as file:\n",
        "    documents = yaml.dump(label_dic, file)"
      ],
      "metadata": {
        "id": "LikbBXo3YsC2"
      },
      "execution_count": 13,
      "outputs": []
    },
    {
      "cell_type": "code",
      "source": [
        "label=pd.read_csv('dataset/data/variants.txt',\n",
        "              sep=\"\\t\", # Use a separator that do not exist to have a unique column as output\n",
        "              names=['all'],\n",
        "              dtype={'all': str} # Allows to keep the id begining with 00\n",
        "              )\n",
        "\n",
        "label_dic = label['all'].to_dict()\n",
        "\n",
        "with open(r'variant_label.yaml','w') as file:\n",
        "    documents = yaml.dump(label_dic, file)"
      ],
      "metadata": {
        "id": "lD7pwqQBYsGO"
      },
      "execution_count": 14,
      "outputs": []
    }
  ]
}
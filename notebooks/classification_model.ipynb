{
  "nbformat": 4,
  "nbformat_minor": 0,
  "metadata": {
    "colab": {
      "name": "train_classification_model.ipynb",
      "provenance": [],
      "authorship_tag": "ABX9TyNsrKBjpitV0SDphdVX6xFF",
      "include_colab_link": true
    },
    "kernelspec": {
      "name": "python3",
      "display_name": "Python 3"
    },
    "language_info": {
      "name": "python"
    },
    "accelerator": "TPU"
  },
  "cells": [
    {
      "cell_type": "markdown",
      "metadata": {
        "id": "view-in-github",
        "colab_type": "text"
      },
      "source": [
        "<a href=\"https://colab.research.google.com/github/bgtm/plane_classification/blob/main/notebooks/classification_model.ipynb\" target=\"_parent\"><img src=\"https://colab.research.google.com/assets/colab-badge.svg\" alt=\"Open In Colab\"/></a>"
      ]
    },
    {
      "cell_type": "markdown",
      "source": [
        "# Import data"
      ],
      "metadata": {
        "id": "LSoeVjjgZU33"
      }
    },
    {
      "cell_type": "code",
      "execution_count": 1,
      "metadata": {
        "colab": {
          "base_uri": "https://localhost:8080/"
        },
        "id": "VjFNHaNmZLuM",
        "outputId": "20e1eb07-51c2-4e5f-f04a-af742857bf6c"
      },
      "outputs": [
        {
          "output_type": "stream",
          "name": "stdout",
          "text": [
            "  % Total    % Received % Xferd  Average Speed   Time    Time     Time  Current\n",
            "                                 Dload  Upload   Total   Spent    Left  Speed\n",
            "100 2625M  100 2625M    0     0  28.6M      0  0:01:31  0:01:31 --:--:-- 28.6M\n"
          ]
        }
      ],
      "source": [
        "!curl -O https://www.robots.ox.ac.uk/~vgg/data/fgvc-aircraft/archives/fgvc-aircraft-2013b.tar.gz\n",
        "!tar zxf fgvc-aircraft-2013b.tar.gz\n",
        "! mv fgvc-aircraft-2013b dataset"
      ]
    },
    {
      "cell_type": "markdown",
      "source": [
        "# Library"
      ],
      "metadata": {
        "id": "HDsUp-D5ZX9K"
      }
    },
    {
      "cell_type": "code",
      "source": [
        "#Original lib\n",
        "import pathlib\n",
        "\n",
        "# Data science lib (alpha)\n",
        "import datetime\n",
        "import matplotlib.pyplot as plt\n",
        "import numpy as np\n",
        "import pandas as pd \n",
        "import tensorflow as tf\n",
        "import seaborn as sns\n",
        "import sklearn\n",
        "import yaml\n",
        "\n",
        "#from tensorflow.keras.utils import to_categorical\n",
        "from PIL import Image\n",
        "from keras.models import Sequential, load_model\n",
        "from keras.layers import Conv2D, MaxPool2D, Dense, Flatten, Dropout\n",
        "from sklearn.model_selection import train_test_split"
      ],
      "metadata": {
        "id": "qo-cshM4ZZ-7"
      },
      "execution_count": 5,
      "outputs": []
    },
    {
      "cell_type": "markdown",
      "source": [
        "# Constants"
      ],
      "metadata": {
        "id": "NJ3Y7ho-hy3z"
      }
    },
    {
      "cell_type": "code",
      "source": [
        "with open(r'app.yaml') as file:\n",
        "    doc = yaml.safe_load(file)\n",
        "    print(doc)  "
      ],
      "metadata": {
        "id": "i8qIbAg9uVGr",
        "outputId": "69b60426-cca5-4130-9543-d9db3c0114f9",
        "colab": {
          "base_uri": "https://localhost:8080/"
        }
      },
      "execution_count": 71,
      "outputs": [
        {
          "output_type": "stream",
          "name": "stdout",
          "text": [
            "{'DATA_DIR': 'dataset/data', 'IMAGE_DEPTH': 3, 'IMAGE_WIDTH': 128, 'TARGET_NAME': 'family', 'MODELS_DIR': 'model'}\n"
          ]
        }
      ]
    },
    {
      "cell_type": "code",
      "source": [
        "DATA_DIR = pathlib.Path(doc['DATA_DIR'])\n",
        "IMAGE_WIDTH = doc['IMAGE_WIDTH']\n",
        "IMAGE_HEIGHT = IMAGE_WIDTH\n",
        "IMAGE_DEPTH = doc['IMAGE_DEPTH']\n",
        "TARGET_NAME = doc['TARGET_NAME']\n",
        "MODELS_DIR = doc['MODELS_DIR']"
      ],
      "metadata": {
        "id": "wQtSgLuabhJ_"
      },
      "execution_count": 72,
      "outputs": []
    },
    {
      "cell_type": "markdown",
      "source": [
        "# Functions"
      ],
      "metadata": {
        "id": "JdOUE65IBwky"
      }
    },
    {
      "cell_type": "markdown",
      "source": [
        "## Before training"
      ],
      "metadata": {
        "id": "-cDuU7ON8vkq"
      }
    },
    {
      "cell_type": "code",
      "source": [
        "def build_image_database(path, target) :\n",
        "  \"\"\" Build pandas dataframe with target class and access path to images.\n",
        "\n",
        "  Parameters\n",
        "  -----------\n",
        "  path (Path): path pattern to read csv file containing images information.\n",
        "  target (str): Name of the target column\n",
        "\n",
        "\n",
        "  Returns\n",
        "  --------\n",
        "  A pandas dataframe including target class and path to images.\n",
        "  \"\"\"\n",
        "  _df=pd.read_csv(path,\n",
        "              sep=\"\\t\", # Use a separator that do not exist to have a unique column as output\n",
        "              names=['all'],\n",
        "              dtype={'all': str} # Allows to keep the id begining with 00\n",
        "              )\n",
        "  \n",
        "  #Extract the image_id\n",
        "  _df['image_id']=_df['all'].apply(lambda x: x.split(' ')[0])\n",
        "  # Extract the manufacturer name, using split, list reading and join\n",
        "  _df[target]=_df['all'].apply(lambda x: ' '.join(x.split(' ')[1:]))\n",
        "\n",
        "  _df['path'] = _df['image_id'].apply(lambda x: pathlib.Path('dataset/data/images') / (x+ \".jpg\"))\n",
        "\n",
        "  return _df.drop(columns=['all'])"
      ],
      "metadata": {
        "id": "d8qrkSlu9IN3"
      },
      "execution_count": 10,
      "outputs": []
    },
    {
      "cell_type": "code",
      "source": [
        "def show_image (df,row,target) :\n",
        "  \"\"\"\n",
        "  parameters\n",
        "  ----------\n",
        "  df (a dataframe) \n",
        "  row (numeric) : index of a row\n",
        "  target (str) : what information to display (ex : manufacturer name)\n",
        "  \"\"\"\n",
        "  assert target in df.columns, \"Missing target colun in dataframe\"\n",
        "  assert 'path' in df.columns, \"Missing image path in dataframe\"\n",
        "  \n",
        "  print(df.iloc[row,][target])\n",
        "  plt.imshow(plt.imread(df.iloc[row,]['path']))\n",
        "  \n",
        "  return "
      ],
      "metadata": {
        "id": "WNed1peMNLkG"
      },
      "execution_count": 11,
      "outputs": []
    },
    {
      "cell_type": "code",
      "source": [
        "def load_resize_image(path, height, width):\n",
        "  \"\"\"\n",
        "  Load an image and resize it to the target size\n",
        "\n",
        "  parameters\n",
        "  ----------\n",
        "  path (Path) : access path to image file\n",
        "  height (int) : resize image to this height\n",
        "  width (int) : resize image to this width\n",
        "\n",
        "  Returns\n",
        "  --------\n",
        "  np.array containing resized image\n",
        "  \"\"\"\n",
        "  # Use of Image from the PIL lib\n",
        "  return np.array(Image.open(path).resize((width,height)))\n",
        "\n"
      ],
      "metadata": {
        "id": "1dTGctvXojqW"
      },
      "execution_count": 12,
      "outputs": []
    },
    {
      "cell_type": "code",
      "source": [
        "def build_x_and_y (df : pd.DataFrame , target : str ,images : str ,stratify : str = None) :\n",
        "  \"\"\"\n",
        "  Build x tensor and y tensor for model fitting\n",
        "\n",
        "  Parameters\n",
        "  ----------\n",
        "  df (pd.DataFrame) : dataframe with target and images columns\n",
        "  target (str) : column name for target variable\n",
        "  images (str) : column name for images\n",
        "\n",
        "  Return\n",
        "  -------\n",
        "  x (np.array) : tensor of X values\n",
        "  y (np.array) : tensor of y values\n",
        "  \"\"\"\n",
        "  x = np.array(df[images].to_list())\n",
        "  y = tf.keras.utils.to_categorical(df[target].astype('category').cat.codes)\n",
        "\n",
        "  return x,y"
      ],
      "metadata": {
        "id": "VFwuC6PJiBw5"
      },
      "execution_count": 13,
      "outputs": []
    },
    {
      "cell_type": "code",
      "source": [
        "def build_classification_model(df : pd.DataFrame, target : str, images : str):\n",
        "\n",
        "  \"\"\"\n",
        "  Build a TF model using information from target and images columns in dataframe.\n",
        "\n",
        "  Parameters\n",
        "  ----------\n",
        "  df (pd.DataFrame) : dataframe with target and images columns\n",
        "  target (str) : column name for target variable\n",
        "  images (str) : column name for images\n",
        "\n",
        "  Returns\n",
        "  --------\n",
        "  TF model build & compiled \n",
        "  \"\"\"\n",
        "  nb_classes = df[target].nunique()\n",
        "  size = df[images].iloc[0].shape\n",
        "\n",
        "  #Building the model\n",
        "  model = Sequential()\n",
        "  #Input layer\n",
        "  model.add(Conv2D(filters=32, kernel_size=(5,5), activation='relu',\n",
        "                  input_shape=size)) # Define the input size, width - height - depth\n",
        "\n",
        "  model.add(Conv2D(filters=32, kernel_size=(5,5), activation='relu'))\n",
        "  model.add(MaxPool2D(pool_size=(2, 2)))\n",
        "  model.add(Dropout(rate=0.25))\n",
        "\n",
        "  model.add(Conv2D(filters=64, kernel_size=(3, 3), activation='relu'))\n",
        "  model.add(Conv2D(filters=64, kernel_size=(3, 3), activation='relu'))\n",
        "  model.add(MaxPool2D(pool_size=(2, 2)))\n",
        "  model.add(Dropout(rate=0.25))\n",
        "\n",
        "  model.add(Flatten())\n",
        "  model.add(Dense(256, activation='relu'))\n",
        "  model.add(Dropout(rate=0.5))\n",
        "\n",
        "  # How many classes to class\n",
        "  model.add(Dense(nb_classes, activation='softmax'))\n",
        "\n",
        "  #Compilation of the model\n",
        "  model.compile(loss='categorical_crossentropy', optimizer='adam', metrics=['accuracy'])\n",
        "\n",
        "  return model"
      ],
      "metadata": {
        "id": "vN70eT9Tb603"
      },
      "execution_count": 14,
      "outputs": []
    },
    {
      "cell_type": "markdown",
      "source": [
        "## After training"
      ],
      "metadata": {
        "id": "WoTBreoG8y56"
      }
    },
    {
      "cell_type": "code",
      "source": [
        "def classify_images(images, model,classes_names=None):\n",
        "  \"\"\"Classify images through a TF model.\n",
        "\n",
        "  Parameters\n",
        "  ----------\n",
        "  images (np.array): set of images to classify\n",
        "  model (tf.keras.Model): TF/Keras model\n",
        "  classes_names : dictionary with names of classes\n",
        "\n",
        "  Returns\n",
        "  --------\n",
        "  predicted classes\n",
        "  \"\"\"\n",
        "\n",
        "  results = model.predict(images) # predict for images\n",
        "  classes = np.argmax(results, axis=1) # np.argmax is computed row by row\n",
        "  if classes_names is not None:\n",
        "    classes = np.array(classes_names[classes])\n",
        "  return classes\n",
        "\n"
      ],
      "metadata": {
        "id": "AMyVGKKW_MO8"
      },
      "execution_count": 15,
      "outputs": []
    },
    {
      "cell_type": "code",
      "source": [
        "def save_model(model, basename):\n",
        "  \"\"\"Save tf/Keras model.\n",
        "\n",
        "  Model file is named model + timestamp.\n",
        "\n",
        "  Parameters\n",
        "  ----------\n",
        "  model (tf/Keras model): model to be saved\n",
        "  basename: location to save model file\n",
        "  \"\"\"\n",
        "  model.save('{}_{}.h5'.format(basename, datetime.datetime.now().strftime('%Y-%m-%d_%H-%M-%S')))\n",
        "  return"
      ],
      "metadata": {
        "id": "QcqYiaK8_MVb"
      },
      "execution_count": 16,
      "outputs": []
    },
    {
      "cell_type": "markdown",
      "source": [
        "## Initialisation TPU"
      ],
      "metadata": {
        "id": "sPB661Xs8Zyu"
      }
    },
    {
      "cell_type": "code",
      "source": [
        "# A faire une fois pour récupérer les informations sur la TPU\n",
        "try:\n",
        "  tpu = tf.distribute.cluster_resolver.TPUClusterResolver()  # TPU detection\n",
        "  print('Running on TPU ', tpu.cluster_spec().as_dict()['worker'])\n",
        "except ValueError:\n",
        "  raise BaseException('ERROR: Not connected to a TPU runtime; please see the previous cell in this notebook for instructions!')\n",
        "\n",
        "tf.config.experimental_connect_to_cluster(tpu)\n",
        "tf.tpu.experimental.initialize_tpu_system(tpu)\n",
        "tpu_strategy = tf.distribute.experimental.TPUStrategy(tpu)"
      ],
      "metadata": {
        "id": "p4sf3HFzDaWF",
        "outputId": "a2a917bf-3ace-4047-f7d7-d0a7f4698cd9",
        "colab": {
          "base_uri": "https://localhost:8080/"
        }
      },
      "execution_count": 17,
      "outputs": [
        {
          "output_type": "stream",
          "name": "stdout",
          "text": [
            "Running on TPU  ['10.21.50.50:8470']\n",
            "INFO:tensorflow:Deallocate tpu buffers before initializing tpu system.\n"
          ]
        },
        {
          "output_type": "stream",
          "name": "stderr",
          "text": [
            "INFO:tensorflow:Deallocate tpu buffers before initializing tpu system.\n"
          ]
        },
        {
          "output_type": "stream",
          "name": "stdout",
          "text": [
            "INFO:tensorflow:Initializing the TPU system: grpc://10.21.50.50:8470\n"
          ]
        },
        {
          "output_type": "stream",
          "name": "stderr",
          "text": [
            "INFO:tensorflow:Initializing the TPU system: grpc://10.21.50.50:8470\n"
          ]
        },
        {
          "output_type": "stream",
          "name": "stdout",
          "text": [
            "INFO:tensorflow:Finished initializing TPU system.\n"
          ]
        },
        {
          "output_type": "stream",
          "name": "stderr",
          "text": [
            "INFO:tensorflow:Finished initializing TPU system.\n",
            "WARNING:absl:`tf.distribute.experimental.TPUStrategy` is deprecated, please use  the non experimental symbol `tf.distribute.TPUStrategy` instead.\n"
          ]
        },
        {
          "output_type": "stream",
          "name": "stdout",
          "text": [
            "INFO:tensorflow:Found TPU system:\n"
          ]
        },
        {
          "output_type": "stream",
          "name": "stderr",
          "text": [
            "INFO:tensorflow:Found TPU system:\n"
          ]
        },
        {
          "output_type": "stream",
          "name": "stdout",
          "text": [
            "INFO:tensorflow:*** Num TPU Cores: 8\n"
          ]
        },
        {
          "output_type": "stream",
          "name": "stderr",
          "text": [
            "INFO:tensorflow:*** Num TPU Cores: 8\n"
          ]
        },
        {
          "output_type": "stream",
          "name": "stdout",
          "text": [
            "INFO:tensorflow:*** Num TPU Workers: 1\n"
          ]
        },
        {
          "output_type": "stream",
          "name": "stderr",
          "text": [
            "INFO:tensorflow:*** Num TPU Workers: 1\n"
          ]
        },
        {
          "output_type": "stream",
          "name": "stdout",
          "text": [
            "INFO:tensorflow:*** Num TPU Cores Per Worker: 8\n"
          ]
        },
        {
          "output_type": "stream",
          "name": "stderr",
          "text": [
            "INFO:tensorflow:*** Num TPU Cores Per Worker: 8\n"
          ]
        },
        {
          "output_type": "stream",
          "name": "stdout",
          "text": [
            "INFO:tensorflow:*** Available Device: _DeviceAttributes(/job:localhost/replica:0/task:0/device:CPU:0, CPU, 0, 0)\n"
          ]
        },
        {
          "output_type": "stream",
          "name": "stderr",
          "text": [
            "INFO:tensorflow:*** Available Device: _DeviceAttributes(/job:localhost/replica:0/task:0/device:CPU:0, CPU, 0, 0)\n"
          ]
        },
        {
          "output_type": "stream",
          "name": "stdout",
          "text": [
            "INFO:tensorflow:*** Available Device: _DeviceAttributes(/job:worker/replica:0/task:0/device:CPU:0, CPU, 0, 0)\n"
          ]
        },
        {
          "output_type": "stream",
          "name": "stderr",
          "text": [
            "INFO:tensorflow:*** Available Device: _DeviceAttributes(/job:worker/replica:0/task:0/device:CPU:0, CPU, 0, 0)\n"
          ]
        },
        {
          "output_type": "stream",
          "name": "stdout",
          "text": [
            "INFO:tensorflow:*** Available Device: _DeviceAttributes(/job:worker/replica:0/task:0/device:TPU:0, TPU, 0, 0)\n"
          ]
        },
        {
          "output_type": "stream",
          "name": "stderr",
          "text": [
            "INFO:tensorflow:*** Available Device: _DeviceAttributes(/job:worker/replica:0/task:0/device:TPU:0, TPU, 0, 0)\n"
          ]
        },
        {
          "output_type": "stream",
          "name": "stdout",
          "text": [
            "INFO:tensorflow:*** Available Device: _DeviceAttributes(/job:worker/replica:0/task:0/device:TPU:1, TPU, 0, 0)\n"
          ]
        },
        {
          "output_type": "stream",
          "name": "stderr",
          "text": [
            "INFO:tensorflow:*** Available Device: _DeviceAttributes(/job:worker/replica:0/task:0/device:TPU:1, TPU, 0, 0)\n"
          ]
        },
        {
          "output_type": "stream",
          "name": "stdout",
          "text": [
            "INFO:tensorflow:*** Available Device: _DeviceAttributes(/job:worker/replica:0/task:0/device:TPU:2, TPU, 0, 0)\n"
          ]
        },
        {
          "output_type": "stream",
          "name": "stderr",
          "text": [
            "INFO:tensorflow:*** Available Device: _DeviceAttributes(/job:worker/replica:0/task:0/device:TPU:2, TPU, 0, 0)\n"
          ]
        },
        {
          "output_type": "stream",
          "name": "stdout",
          "text": [
            "INFO:tensorflow:*** Available Device: _DeviceAttributes(/job:worker/replica:0/task:0/device:TPU:3, TPU, 0, 0)\n"
          ]
        },
        {
          "output_type": "stream",
          "name": "stderr",
          "text": [
            "INFO:tensorflow:*** Available Device: _DeviceAttributes(/job:worker/replica:0/task:0/device:TPU:3, TPU, 0, 0)\n"
          ]
        },
        {
          "output_type": "stream",
          "name": "stdout",
          "text": [
            "INFO:tensorflow:*** Available Device: _DeviceAttributes(/job:worker/replica:0/task:0/device:TPU:4, TPU, 0, 0)\n"
          ]
        },
        {
          "output_type": "stream",
          "name": "stderr",
          "text": [
            "INFO:tensorflow:*** Available Device: _DeviceAttributes(/job:worker/replica:0/task:0/device:TPU:4, TPU, 0, 0)\n"
          ]
        },
        {
          "output_type": "stream",
          "name": "stdout",
          "text": [
            "INFO:tensorflow:*** Available Device: _DeviceAttributes(/job:worker/replica:0/task:0/device:TPU:5, TPU, 0, 0)\n"
          ]
        },
        {
          "output_type": "stream",
          "name": "stderr",
          "text": [
            "INFO:tensorflow:*** Available Device: _DeviceAttributes(/job:worker/replica:0/task:0/device:TPU:5, TPU, 0, 0)\n"
          ]
        },
        {
          "output_type": "stream",
          "name": "stdout",
          "text": [
            "INFO:tensorflow:*** Available Device: _DeviceAttributes(/job:worker/replica:0/task:0/device:TPU:6, TPU, 0, 0)\n"
          ]
        },
        {
          "output_type": "stream",
          "name": "stderr",
          "text": [
            "INFO:tensorflow:*** Available Device: _DeviceAttributes(/job:worker/replica:0/task:0/device:TPU:6, TPU, 0, 0)\n"
          ]
        },
        {
          "output_type": "stream",
          "name": "stdout",
          "text": [
            "INFO:tensorflow:*** Available Device: _DeviceAttributes(/job:worker/replica:0/task:0/device:TPU:7, TPU, 0, 0)\n"
          ]
        },
        {
          "output_type": "stream",
          "name": "stderr",
          "text": [
            "INFO:tensorflow:*** Available Device: _DeviceAttributes(/job:worker/replica:0/task:0/device:TPU:7, TPU, 0, 0)\n"
          ]
        },
        {
          "output_type": "stream",
          "name": "stdout",
          "text": [
            "INFO:tensorflow:*** Available Device: _DeviceAttributes(/job:worker/replica:0/task:0/device:TPU_SYSTEM:0, TPU_SYSTEM, 0, 0)\n"
          ]
        },
        {
          "output_type": "stream",
          "name": "stderr",
          "text": [
            "INFO:tensorflow:*** Available Device: _DeviceAttributes(/job:worker/replica:0/task:0/device:TPU_SYSTEM:0, TPU_SYSTEM, 0, 0)\n"
          ]
        },
        {
          "output_type": "stream",
          "name": "stdout",
          "text": [
            "INFO:tensorflow:*** Available Device: _DeviceAttributes(/job:worker/replica:0/task:0/device:XLA_CPU:0, XLA_CPU, 0, 0)\n"
          ]
        },
        {
          "output_type": "stream",
          "name": "stderr",
          "text": [
            "INFO:tensorflow:*** Available Device: _DeviceAttributes(/job:worker/replica:0/task:0/device:XLA_CPU:0, XLA_CPU, 0, 0)\n"
          ]
        }
      ]
    },
    {
      "cell_type": "markdown",
      "source": [
        "# Train the model"
      ],
      "metadata": {
        "id": "sWlcPTXWKbh5"
      }
    },
    {
      "cell_type": "code",
      "source": [
        "# Load train & test dataset\n",
        "path_train = 'images_'+TARGET_NAME+'_train.txt'\n",
        "path_test = 'images_'+TARGET_NAME+'_test.txt'\n",
        "\n",
        "train_df = build_image_database(DATA_DIR / path_train,TARGET_NAME)\n",
        "test_df = build_image_database(DATA_DIR / path_test,TARGET_NAME)\n",
        "\n",
        "train_df['resize_image']=train_df.apply(lambda r: load_resize_image(r['path'],\n",
        "                                                                    IMAGE_HEIGHT,IMAGE_WIDTH),\n",
        "                                        axis=1)\n",
        "\n",
        "test_df['resize_image']=test_df.apply(lambda r: load_resize_image(r['path'],\n",
        "                                                                    IMAGE_HEIGHT,IMAGE_WIDTH),\n",
        "                                      axis=1)\n",
        "# Split train&test\n",
        "X_train, y_train = build_x_and_y(train_df, TARGET_NAME,'resize_image')\n",
        "X_test, y_test = build_x_and_y(test_df, TARGET_NAME,'resize_image')\n",
        "\n",
        "# Build TF classification model\n",
        "model = build_classification_model(train_df,TARGET_NAME,'resize_image')\n"
      ],
      "metadata": {
        "id": "fe6SOYqMjY6d"
      },
      "execution_count": 73,
      "outputs": []
    },
    {
      "cell_type": "code",
      "source": [
        "with tpu_strategy.scope():\n",
        "  model = build_classification_model(train_df,TARGET_NAME,\"resize_image\")\n",
        "\n",
        "model.summary()"
      ],
      "metadata": {
        "id": "MQWk9VB3GhTi",
        "outputId": "b56d5a58-efcd-4215-a7a5-ae2a9c3eeeaf",
        "colab": {
          "base_uri": "https://localhost:8080/"
        }
      },
      "execution_count": 74,
      "outputs": [
        {
          "output_type": "stream",
          "name": "stdout",
          "text": [
            "Model: \"sequential_7\"\n",
            "_________________________________________________________________\n",
            " Layer (type)                Output Shape              Param #   \n",
            "=================================================================\n",
            " conv2d_28 (Conv2D)          (None, 124, 124, 32)      2432      \n",
            "                                                                 \n",
            " conv2d_29 (Conv2D)          (None, 120, 120, 32)      25632     \n",
            "                                                                 \n",
            " max_pooling2d_14 (MaxPoolin  (None, 60, 60, 32)       0         \n",
            " g2D)                                                            \n",
            "                                                                 \n",
            " dropout_21 (Dropout)        (None, 60, 60, 32)        0         \n",
            "                                                                 \n",
            " conv2d_30 (Conv2D)          (None, 58, 58, 64)        18496     \n",
            "                                                                 \n",
            " conv2d_31 (Conv2D)          (None, 56, 56, 64)        36928     \n",
            "                                                                 \n",
            " max_pooling2d_15 (MaxPoolin  (None, 28, 28, 64)       0         \n",
            " g2D)                                                            \n",
            "                                                                 \n",
            " dropout_22 (Dropout)        (None, 28, 28, 64)        0         \n",
            "                                                                 \n",
            " flatten_7 (Flatten)         (None, 50176)             0         \n",
            "                                                                 \n",
            " dense_14 (Dense)            (None, 256)               12845312  \n",
            "                                                                 \n",
            " dropout_23 (Dropout)        (None, 256)               0         \n",
            "                                                                 \n",
            " dense_15 (Dense)            (None, 70)                17990     \n",
            "                                                                 \n",
            "=================================================================\n",
            "Total params: 12,946,790\n",
            "Trainable params: 12,946,790\n",
            "Non-trainable params: 0\n",
            "_________________________________________________________________\n"
          ]
        }
      ]
    },
    {
      "cell_type": "code",
      "source": [
        "epochs = 10\n",
        "history = model.fit(X_train,y_train,\n",
        "                      batch_size = 60,\n",
        "                      epochs=epochs,\n",
        "                      validation_data =(X_test,y_test))"
      ],
      "metadata": {
        "colab": {
          "base_uri": "https://localhost:8080/"
        },
        "id": "TMXqJPTen26h",
        "outputId": "2fa0c38f-220f-48b6-eecf-28a74290a6ee"
      },
      "execution_count": 75,
      "outputs": [
        {
          "output_type": "stream",
          "name": "stdout",
          "text": [
            "Epoch 1/10\n",
            "56/56 [==============================] - 38s 438ms/step - loss: 9.3264 - accuracy: 0.0558 - val_loss: 4.1184 - val_accuracy: 0.0801\n",
            "Epoch 2/10\n",
            "56/56 [==============================] - 4s 72ms/step - loss: 4.0961 - accuracy: 0.0789 - val_loss: 4.0224 - val_accuracy: 0.0837\n",
            "Epoch 3/10\n",
            "56/56 [==============================] - 3s 61ms/step - loss: 3.9732 - accuracy: 0.0858 - val_loss: 3.9075 - val_accuracy: 0.0885\n",
            "Epoch 4/10\n",
            "56/56 [==============================] - 3s 61ms/step - loss: 3.7411 - accuracy: 0.1053 - val_loss: 3.8566 - val_accuracy: 0.1002\n",
            "Epoch 5/10\n",
            "56/56 [==============================] - 4s 68ms/step - loss: 3.4834 - accuracy: 0.1611 - val_loss: 3.7699 - val_accuracy: 0.1215\n",
            "Epoch 6/10\n",
            "56/56 [==============================] - 3s 62ms/step - loss: 3.1396 - accuracy: 0.2256 - val_loss: 3.6395 - val_accuracy: 0.1452\n",
            "Epoch 7/10\n",
            "56/56 [==============================] - 3s 62ms/step - loss: 2.7962 - accuracy: 0.2804 - val_loss: 3.6195 - val_accuracy: 0.1575\n",
            "Epoch 8/10\n",
            "56/56 [==============================] - 3s 62ms/step - loss: 2.4642 - accuracy: 0.3488 - val_loss: 3.5897 - val_accuracy: 0.1611\n",
            "Epoch 9/10\n",
            "56/56 [==============================] - 3s 62ms/step - loss: 2.2328 - accuracy: 0.4079 - val_loss: 3.5761 - val_accuracy: 0.1665\n",
            "Epoch 10/10\n",
            "56/56 [==============================] - 3s 62ms/step - loss: 1.8625 - accuracy: 0.4811 - val_loss: 3.6432 - val_accuracy: 0.1728\n"
          ]
        }
      ]
    },
    {
      "cell_type": "markdown",
      "source": [
        "# Evaluate the model"
      ],
      "metadata": {
        "id": "GX0gvCl0QIu4"
      }
    },
    {
      "cell_type": "code",
      "source": [
        "loss, accuracy  = model.evaluate(X_test, y_test, verbose=False)\n",
        "\n",
        "plt.figure(figsize=(6.4, 4.8))\n",
        "plt.plot(history.history['accuracy'])\n",
        "plt.plot(history.history['val_accuracy'])\n",
        "plt.title('model accuracy')\n",
        "plt.ylabel('accuracy')\n",
        "plt.xlabel('epoch')\n",
        "plt.legend(['Train', 'Test'], loc='best')\n",
        "plt.show()\n",
        "\n",
        "print(\"Loss : \" + str(loss))\n",
        "print(\"Accuracy : \" + str(accuracy))"
      ],
      "metadata": {
        "colab": {
          "base_uri": "https://localhost:8080/",
          "height": 376
        },
        "id": "tHJ-JE5UMjwP",
        "outputId": "a8a1fd20-d3c0-4dee-e7fc-1dd6903481cb"
      },
      "execution_count": 66,
      "outputs": [
        {
          "output_type": "display_data",
          "data": {
            "text/plain": [
              "<Figure size 460.8x345.6 with 1 Axes>"
            ],
            "image/png": "[encoded data removed]"
          },
          "metadata": {
            "needs_background": "light"
          }
        },
        {
          "output_type": "stream",
          "name": "stdout",
          "text": [
            "Loss : 4.605198860168457\n",
            "Accuracy : 0.00990099087357521\n"
          ]
        }
      ]
    },
    {
      "cell_type": "code",
      "source": [
        "fig, ax = plt.subplots(figsize=(12,10))\n",
        "sns.heatmap(pd.crosstab(test_df[TARGET_NAME], classify_images(X_test, model,test_df[TARGET_NAME].astype('category').cat.categories), \n",
        "                        normalize='index'), cmap='vlag',ax=ax)"
      ],
      "metadata": {
        "colab": {
          "base_uri": "https://localhost:8080/",
          "height": 629
        },
        "id": "bgjJ2fVf_MSr",
        "outputId": "2a30b0bc-92d5-4513-db2d-9d27353affe9"
      },
      "execution_count": 67,
      "outputs": [
        {
          "output_type": "execute_result",
          "data": {
            "text/plain": [
              "<matplotlib.axes._subplots.AxesSubplot at 0x7f6e091c3a10>"
            ]
          },
          "metadata": {},
          "execution_count": 67
        },
        {
          "output_type": "display_data",
          "data": {
            "text/plain": [
              "<Figure size 864x720 with 2 Axes>"
            ],
            "image/png": "[encoded data removed]"
          },
          "metadata": {
            "needs_background": "light"
          }
        }
      ]
    },
    {
      "cell_type": "markdown",
      "source": [
        "# Save the weights"
      ],
      "metadata": {
        "id": "6oESXUZR9CKB"
      }
    },
    {
      "cell_type": "code",
      "source": [
        "model.save(MODELS_DIR +\"/\"+ TARGET_NAME + \".h5\")"
      ],
      "metadata": {
        "id": "e44TTrG2D5vy"
      },
      "execution_count": 59,
      "outputs": []
    },
    {
      "cell_type": "code",
      "source": [
        "reloaded_model = load_model('/content/'+MODELS_DIR+'/'+TARGET_NAME+'.h5')"
      ],
      "metadata": {
        "id": "J8ExG4Hj_Xjc"
      },
      "execution_count": 60,
      "outputs": []
    }
  ]
}